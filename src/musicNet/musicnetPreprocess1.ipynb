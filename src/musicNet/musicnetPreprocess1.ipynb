{
 "cells": [
  {
   "cell_type": "code",
   "execution_count": 1,
   "metadata": {},
   "outputs": [],
   "source": [
    "import numpy as np\n",
    "import pandas as pd\n",
    "\n",
    "import matplotlib.pyplot as plt\n",
    "\n",
    "import os\n",
    "\n",
    "import librosa\n",
    "import librosa.display\n",
    "\n",
    "import IPython\n",
    "\n",
    "from sklearn.decomposition import PCA"
   ]
  },
  {
   "cell_type": "code",
   "execution_count": null,
   "metadata": {},
   "outputs": [],
   "source": [
    "seed = 12\n",
    "np.random.seed(seed)\n",
    "\n",
    "path = \"/kaggle/input/musicnet-dataset/\"\n",
    "path_audio_files = path + \"musicnet/musicnet/train_data/\"\n",
    "\n",
    "hop_length = 512\n",
    "n_fft = 2048\n",
    "\n",
    "df = pd.read_csv('/kaggle/input/musicnet-dataset/musicnet_metadata.csv')\n",
    "df.head()\n"
   ]
  },
  {
   "cell_type": "code",
   "execution_count": null,
   "metadata": {},
   "outputs": [],
   "source": [
    "composers = np.unique(df['composer']).astype(str)\n",
    "id_dict = dict()\n",
    "for i in range(len(composers)):\n",
    "    id_dict[composers[i]] = df.loc[df['composer'] == composers[0], 'id']\n",
    "\n",
    "random_id_sample = []\n",
    "for i in range(len(composers)):\n",
    "    curr_values_list = list(id_dict[composers[i]])\n",
    "    c = len(curr_values_list)\n",
    "    random_id_sample.append(curr_values_list[np.random.randint(0, c, size=1)[0]])"
   ]
  },
  {
   "cell_type": "code",
   "execution_count": null,
   "metadata": {},
   "outputs": [],
   "source": []
  }
 ],
 "metadata": {
  "kernelspec": {
   "display_name": "cs4641_env",
   "language": "python",
   "name": "python3"
  },
  "language_info": {
   "codemirror_mode": {
    "name": "ipython",
    "version": 3
   },
   "file_extension": ".py",
   "mimetype": "text/x-python",
   "name": "python",
   "nbconvert_exporter": "python",
   "pygments_lexer": "ipython3",
   "version": "3.8.17"
  }
 },
 "nbformat": 4,
 "nbformat_minor": 2
}
